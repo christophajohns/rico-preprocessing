{
 "cells": [
  {
   "cell_type": "markdown",
   "metadata": {},
   "source": [
    "# Processing the RICO Dataset\n",
    "\n",
    "> Generating training data for a link classifier.\n",
    "\n",
    "This Figma plugin is part of a master thesis project titled \"Assignment-Based Link Optimization in GUI Prototyping Using Incremental Supervised Classification\" by [Christoph A. Johns](mailto:christophjohns@aalto.fi?subject=[GitHub]%20Suggested%20Links%Figma%Plugin) at German Research Center for Artificial Intelligence (DFKI) and Aalto University.\n",
    "The project is supervised by Michael Barz and Antti Oulasvirta."
   ]
  },
  {
   "cell_type": "markdown",
   "metadata": {},
   "source": []
  }
 ],
 "metadata": {
  "interpreter": {
   "hash": "29dd1921feb29c5b0124d34688f8645dc18803fb12ee094f5fff62f55e303755"
  },
  "kernelspec": {
   "display_name": "Python 3.8.2 ('venv': venv)",
   "language": "python",
   "name": "python3"
  },
  "language_info": {
   "name": "python",
   "version": "3.8.2"
  },
  "orig_nbformat": 4
 },
 "nbformat": 4,
 "nbformat_minor": 2
}
